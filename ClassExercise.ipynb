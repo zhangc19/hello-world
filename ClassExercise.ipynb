{
  "nbformat": 4,
  "nbformat_minor": 0,
  "metadata": {
    "colab": {
      "name": "ClassExercise.ipynb",
      "version": "0.3.2",
      "provenance": [],
      "collapsed_sections": [],
      "include_colab_link": true
    },
    "kernelspec": {
      "name": "python3",
      "display_name": "Python 3"
    }
  },
  "cells": [
    {
      "cell_type": "markdown",
      "metadata": {
        "id": "view-in-github",
        "colab_type": "text"
      },
      "source": [
        "<a href=\"https://colab.research.google.com/github/zhangc19/hello-world/blob/master/ClassExercise.ipynb\" target=\"_parent\"><img src=\"https://colab.research.google.com/assets/colab-badge.svg\" alt=\"Open In Colab\"/></a>"
      ]
    },
    {
      "cell_type": "code",
      "metadata": {
        "id": "Bd986ttD4oF1",
        "colab_type": "code",
        "colab": {}
      },
      "source": [
        "myList=[\"apples\",\"bananas\"]\n",
        "for i in myList:\n",
        "  i.upper()\n",
        "  \n",
        "print(myList)"
      ],
      "execution_count": 0,
      "outputs": []
    },
    {
      "cell_type": "code",
      "metadata": {
        "id": "0jyJQ57w5ar8",
        "colab_type": "code",
        "colab": {}
      },
      "source": [
        "myList=[\"apples\",\"bananas\"]\n",
        "for i in myList:\n",
        "  i=i.upper()\n",
        "  \n",
        "print(myList)"
      ],
      "execution_count": 0,
      "outputs": []
    },
    {
      "cell_type": "code",
      "metadata": {
        "id": "NosaabmI5tca",
        "colab_type": "code",
        "colab": {}
      },
      "source": [
        "myList=[\"apples\",\"bananas\"]\n",
        "for i in range(len(myList)):\n",
        "  myList[i]=myList[i].upper()\n",
        "  \n",
        "print(myList)"
      ],
      "execution_count": 0,
      "outputs": []
    },
    {
      "cell_type": "code",
      "metadata": {
        "id": "C1aOJNr458MM",
        "colab_type": "code",
        "colab": {}
      },
      "source": [
        "myList=[\"apples\",\"bananas\"]\n",
        "for i in myList:\n",
        "  myList.append(i.upper())\n",
        "  \n",
        "print(myList)"
      ],
      "execution_count": 0,
      "outputs": []
    },
    {
      "cell_type": "code",
      "metadata": {
        "id": "y4W-i-YI7LSC",
        "colab_type": "code",
        "colab": {}
      },
      "source": [
        "i=0\n",
        "while i<3:\n",
        "  print(i)\n",
        "  i+=1\n",
        "else:\n",
        "  print(0)"
      ],
      "execution_count": 0,
      "outputs": []
    },
    {
      "cell_type": "code",
      "metadata": {
        "id": "HOkjIPnP7SmM",
        "colab_type": "code",
        "colab": {}
      },
      "source": [
        "mystr = \"Machine Learning\"\n",
        "for i in range(mystr):\n",
        "  print(i)"
      ],
      "execution_count": 0,
      "outputs": []
    },
    {
      "cell_type": "code",
      "metadata": {
        "id": "rvjWBw0S7cOm",
        "colab_type": "code",
        "colab": {}
      },
      "source": [
        "mystr = \"Machine Learning\"\n",
        "for i in range(len(mystr)):\n",
        "  print(i)"
      ],
      "execution_count": 0,
      "outputs": []
    },
    {
      "cell_type": "code",
      "metadata": {
        "id": "uHvucy1D7oKA",
        "colab_type": "code",
        "colab": {}
      },
      "source": [
        "mystr = \"Machine Learning\"\n",
        "for i in range(len(mystr)):\n",
        "  print(mystr[i])"
      ],
      "execution_count": 0,
      "outputs": []
    },
    {
      "cell_type": "code",
      "metadata": {
        "id": "KCrqzrdG7uwX",
        "colab_type": "code",
        "colab": {}
      },
      "source": [
        "mystr = \"Machine Learning\"\n",
        "for i in range(len(mystr)):\n",
        "  print(mystr)\n",
        "  mystr=\"a\""
      ],
      "execution_count": 0,
      "outputs": []
    },
    {
      "cell_type": "code",
      "metadata": {
        "id": "jpQe8n6S6Rfm",
        "colab_type": "code",
        "colab": {}
      },
      "source": [
        "val=1\n",
        "while True:\n",
        "  if val%10==0:\n",
        "    break\n",
        "  print(val)\n",
        "  val=val+1"
      ],
      "execution_count": 0,
      "outputs": []
    },
    {
      "cell_type": "code",
      "metadata": {
        "id": "Cln2xLjK6k_a",
        "colab_type": "code",
        "colab": {}
      },
      "source": [
        "val=1\n",
        "while True:\n",
        "  if val%3 == 0:\n",
        "    break\n",
        "  print(val)\n",
        "  val+=1"
      ],
      "execution_count": 0,
      "outputs": []
    },
    {
      "cell_type": "code",
      "metadata": {
        "id": "TRLieotf62I1",
        "colab_type": "code",
        "colab": {}
      },
      "source": [
        "val=1\n",
        "while True:\n",
        "  if val%3 == 0:\n",
        "    break\n",
        "  print(val)\n",
        "  val += 1"
      ],
      "execution_count": 0,
      "outputs": []
    },
    {
      "cell_type": "code",
      "metadata": {
        "id": "yRPvK7Dj68hq",
        "colab_type": "code",
        "colab": {}
      },
      "source": [
        ""
      ],
      "execution_count": 0,
      "outputs": []
    },
    {
      "cell_type": "code",
      "metadata": {
        "id": "J5YIAWccwgTN",
        "colab_type": "code",
        "outputId": "d1495e27-9e99-48ec-f22e-0c944f243cc4",
        "colab": {
          "base_uri": "https://localhost:8080/",
          "height": 34
        }
      },
      "source": [
        "def myVar(v):\n",
        "  v=20\n",
        "  \n",
        "v=10\n",
        "myVar(v)\n",
        "print(v)"
      ],
      "execution_count": 0,
      "outputs": [
        {
          "output_type": "stream",
          "text": [
            "10\n"
          ],
          "name": "stdout"
        }
      ]
    },
    {
      "cell_type": "code",
      "metadata": {
        "id": "Y2YJqd1hwz-n",
        "colab_type": "code",
        "outputId": "dc7769f7-c030-464b-bd79-4ba9321eb278",
        "colab": {
          "base_uri": "https://localhost:8080/",
          "height": 51
        }
      },
      "source": [
        "def func1(n):\n",
        "  n=n*n\n",
        "  return(n)\n",
        "\n",
        "k=2\n",
        "j=func1(k)\n",
        "print(k)\n",
        "print(j)"
      ],
      "execution_count": 0,
      "outputs": [
        {
          "output_type": "stream",
          "text": [
            "2\n",
            "4\n"
          ],
          "name": "stdout"
        }
      ]
    },
    {
      "cell_type": "code",
      "metadata": {
        "id": "Iy0eGFkpxAOo",
        "colab_type": "code",
        "colab": {}
      },
      "source": [
        "n=2\n",
        "def func1(n):\n",
        "  n=n*n\n",
        "  return(n)\n",
        "\n",
        "j=func1(n)\n",
        "print(n)\n",
        "print(j)"
      ],
      "execution_count": 0,
      "outputs": []
    },
    {
      "cell_type": "code",
      "metadata": {
        "id": "p5L5bLJixKhH",
        "colab_type": "code",
        "colab": {}
      },
      "source": [
        "\n",
        "def func1(n):\n",
        "  n[0]=20\n",
        "  return(n)\n",
        "\n",
        "n=[1]\n",
        "print(n)\n",
        "func1(n)\n",
        "print(n)"
      ],
      "execution_count": 0,
      "outputs": []
    },
    {
      "cell_type": "code",
      "metadata": {
        "id": "QNVxtyZf1Th7",
        "colab_type": "code",
        "outputId": "1b899d8a-2ddb-4bbe-b256-e752e4256f73",
        "colab": {
          "base_uri": "https://localhost:8080/",
          "height": 68
        }
      },
      "source": [
        "def myVar(**kwargs):\n",
        "  for key, val in kwargs.items():\n",
        "    print(key+\":\"+val)\n",
        "\n",
        "myVar(first=\"abc\", second=\"bcd\", third=\"cde\")"
      ],
      "execution_count": 0,
      "outputs": [
        {
          "output_type": "stream",
          "text": [
            "first:abc\n",
            "second:bcd\n",
            "third:cde\n"
          ],
          "name": "stdout"
        }
      ]
    },
    {
      "cell_type": "code",
      "metadata": {
        "id": "pvT7ZS6215lg",
        "colab_type": "code",
        "outputId": "6bec2669-d168-48ed-ed9d-61d6d87460ed",
        "colab": {
          "base_uri": "https://localhost:8080/",
          "height": 34
        }
      },
      "source": [
        "cube=lambda x:x*x*x\n",
        "print(cube(7))"
      ],
      "execution_count": 0,
      "outputs": [
        {
          "output_type": "stream",
          "text": [
            "343\n"
          ],
          "name": "stdout"
        }
      ]
    },
    {
      "cell_type": "code",
      "metadata": {
        "id": "E1xzO1HB254j",
        "colab_type": "code",
        "outputId": "5c02a53f-48d6-44d3-c39d-f20a38260ecf",
        "colab": {
          "base_uri": "https://localhost:8080/",
          "height": 34
        }
      },
      "source": [
        "y=8\n",
        "z= lambda x:x*y\n",
        "\n",
        "print(z(6))"
      ],
      "execution_count": 0,
      "outputs": [
        {
          "output_type": "stream",
          "text": [
            "48\n"
          ],
          "name": "stdout"
        }
      ]
    }
  ]
}